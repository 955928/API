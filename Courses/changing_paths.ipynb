{
 "cells": [
  {
   "cell_type": "code",
   "execution_count": null,
   "metadata": {},
   "outputs": [],
   "source": [
    "#Rappel: Method to verify the path your on when executing your programs and what to do if you need to change them\n",
    "\n",
    "# $ pwd\n",
    "# /c/Users/Utilisateur/Documents/TECH_IA_DJO/Python/Tech_IA_2023/API\n",
    "# (env) \n",
    "# Utilisateur@HDF-NB-D9289KPL MINGW64 ~/Documents/TECH_IA_DJO/Python/Tech_IA_2023/API (Djovan)\n",
    "# $ dir \n",
    "# __pycache__  Courses  env  Exercices  README.md  requirements.txt\n",
    "# (env) \n",
    "# Utilisateur@HDF-NB-D9289KPL MINGW64 ~/Documents/TECH_IA_DJO/Python/Tech_IA_2023/API (Djovan)\n",
    "# $ cd exercices\n",
    "# (env) \n",
    "# Utilisateur@HDF-NB-D9289KPL MINGW64 ~/Documents/TECH_IA_DJO/Python/Tech_IA_2023/API/exercices (Djovan)\n",
    "# $ cd Streamlit\n",
    "# (env) \n",
    "# Utilisateur@HDF-NB-D9289KPL MINGW64 ~/Documents/TECH_IA_DJO/Python/Tech_IA_2023/API/exercices/Streamlit (Djovan)\n",
    "# $ streamlit run Iris_Dashboard.py"
   ]
  }
 ],
 "metadata": {
  "language_info": {
   "name": "python"
  }
 },
 "nbformat": 4,
 "nbformat_minor": 2
}
